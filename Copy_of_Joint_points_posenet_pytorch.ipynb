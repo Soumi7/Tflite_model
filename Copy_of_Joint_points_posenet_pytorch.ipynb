{
  "nbformat": 4,
  "nbformat_minor": 0,
  "metadata": {
    "colab": {
      "name": "Copy of Joint_points_posenet-pytorch.ipynb",
      "provenance": [],
      "authorship_tag": "ABX9TyMkf4ePzEnCswGk8t3yQg1D",
      "include_colab_link": true
    },
    "kernelspec": {
      "name": "python3",
      "display_name": "Python 3"
    },
    "accelerator": "GPU"
  },
  "cells": [
    {
      "cell_type": "markdown",
      "metadata": {
        "id": "view-in-github",
        "colab_type": "text"
      },
      "source": [
        "<a href=\"https://colab.research.google.com/github/Soumi7/Tflite_model/blob/master/Copy_of_Joint_points_posenet_pytorch.ipynb\" target=\"_parent\"><img src=\"https://colab.research.google.com/assets/colab-badge.svg\" alt=\"Open In Colab\"/></a>"
      ]
    },
    {
      "cell_type": "code",
      "metadata": {
        "id": "x8scUw-7Lcuw",
        "colab_type": "code",
        "colab": {
          "base_uri": "https://localhost:8080/",
          "height": 143
        },
        "outputId": "42aa92f8-1728-4e20-c431-fedf21410763"
      },
      "source": [
        "!git clone https://github.com/Soumi7/posenet-pytorch.git"
      ],
      "execution_count": 1,
      "outputs": [
        {
          "output_type": "stream",
          "text": [
            "Cloning into 'posenet-pytorch'...\n",
            "remote: Enumerating objects: 266, done.\u001b[K\n",
            "remote: Counting objects:   0% (1/266)\u001b[K\rremote: Counting objects:   1% (3/266)\u001b[K\rremote: Counting objects:   2% (6/266)\u001b[K\rremote: Counting objects:   3% (8/266)\u001b[K\rremote: Counting objects:   4% (11/266)\u001b[K\rremote: Counting objects:   5% (14/266)\u001b[K\rremote: Counting objects:   6% (16/266)\u001b[K\rremote: Counting objects:   7% (19/266)\u001b[K\rremote: Counting objects:   8% (22/266)\u001b[K\rremote: Counting objects:   9% (24/266)\u001b[K\rremote: Counting objects:  10% (27/266)\u001b[K\rremote: Counting objects:  11% (30/266)\u001b[K\rremote: Counting objects:  12% (32/266)\u001b[K\rremote: Counting objects:  13% (35/266)\u001b[K\rremote: Counting objects:  14% (38/266)\u001b[K\rremote: Counting objects:  15% (40/266)\u001b[K\rremote: Counting objects:  16% (43/266)\u001b[K\rremote: Counting objects:  17% (46/266)\u001b[K\rremote: Counting objects:  18% (48/266)\u001b[K\rremote: Counting objects:  19% (51/266)\u001b[K\rremote: Counting objects:  20% (54/266)\u001b[K\rremote: Counting objects:  21% (56/266)\u001b[K\rremote: Counting objects:  22% (59/266)\u001b[K\rremote: Counting objects:  23% (62/266)\u001b[K\rremote: Counting objects:  24% (64/266)\u001b[K\rremote: Counting objects:  25% (67/266)\u001b[K\rremote: Counting objects:  26% (70/266)\u001b[K\rremote: Counting objects:  27% (72/266)\u001b[K\rremote: Counting objects:  28% (75/266)\u001b[K\rremote: Counting objects:  29% (78/266)\u001b[K\rremote: Counting objects:  30% (80/266)\u001b[K\rremote: Counting objects:  31% (83/266)\u001b[K\rremote: Counting objects:  32% (86/266)\u001b[K\rremote: Counting objects:  33% (88/266)\u001b[K\rremote: Counting objects:  34% (91/266)\u001b[K\rremote: Counting objects:  35% (94/266)\u001b[K\rremote: Counting objects:  36% (96/266)\u001b[K\rremote: Counting objects:  37% (99/266)\u001b[K\rremote: Counting objects:  38% (102/266)\u001b[K\rremote: Counting objects:  39% (104/266)\u001b[K\rremote: Counting objects:  40% (107/266)\u001b[K\rremote: Counting objects:  41% (110/266)\u001b[K\rremote: Counting objects:  42% (112/266)\u001b[K\rremote: Counting objects:  43% (115/266)\u001b[K\rremote: Counting objects:  44% (118/266)\u001b[K\rremote: Counting objects:  45% (120/266)\u001b[K\rremote: Counting objects:  46% (123/266)\u001b[K\rremote: Counting objects:  47% (126/266)\u001b[K\rremote: Counting objects:  48% (128/266)\u001b[K\rremote: Counting objects:  49% (131/266)\u001b[K\rremote: Counting objects:  50% (133/266)\u001b[K\rremote: Counting objects:  51% (136/266)\u001b[K\rremote: Counting objects:  52% (139/266)\u001b[K\rremote: Counting objects:  53% (141/266)\u001b[K\rremote: Counting objects:  54% (144/266)\u001b[K\rremote: Counting objects:  55% (147/266)\u001b[K\rremote: Counting objects:  56% (149/266)\u001b[K\rremote: Counting objects:  57% (152/266)\u001b[K\rremote: Counting objects:  58% (155/266)\u001b[K\rremote: Counting objects:  59% (157/266)\u001b[K\rremote: Counting objects:  60% (160/266)\u001b[K\rremote: Counting objects:  61% (163/266)\u001b[K\rremote: Counting objects:  62% (165/266)\u001b[K\rremote: Counting objects:  63% (168/266)\u001b[K\rremote: Counting objects:  64% (171/266)\u001b[K\rremote: Counting objects:  65% (173/266)\u001b[K\rremote: Counting objects:  66% (176/266)\u001b[K\rremote: Counting objects:  67% (179/266)\u001b[K\rremote: Counting objects:  68% (181/266)\u001b[K\rremote: Counting objects:  69% (184/266)\u001b[K\rremote: Counting objects:  70% (187/266)\u001b[K\rremote: Counting objects:  71% (189/266)\u001b[K\rremote: Counting objects:  72% (192/266)\u001b[K\rremote: Counting objects:  73% (195/266)\u001b[K\rremote: Counting objects:  74% (197/266)\u001b[K\rremote: Counting objects:  75% (200/266)\u001b[K\rremote: Counting objects:  76% (203/266)\u001b[K\rremote: Counting objects:  77% (205/266)\u001b[K\rremote: Counting objects:  78% (208/266)\u001b[K\rremote: Counting objects:  79% (211/266)\u001b[K\rremote: Counting objects:  80% (213/266)\u001b[K\rremote: Counting objects:  81% (216/266)\u001b[K\rremote: Counting objects:  82% (219/266)\u001b[K\rremote: Counting objects:  83% (221/266)\u001b[K\rremote: Counting objects:  84% (224/266)\u001b[K\rremote: Counting objects:  85% (227/266)\u001b[K\rremote: Counting objects:  86% (229/266)\u001b[K\rremote: Counting objects:  87% (232/266)\u001b[K\rremote: Counting objects:  88% (235/266)\u001b[K\rremote: Counting objects:  89% (237/266)\u001b[K\rremote: Counting objects:  90% (240/266)\u001b[K\rremote: Counting objects:  91% (243/266)\u001b[K\rremote: Counting objects:  92% (245/266)\u001b[K\rremote: Counting objects:  93% (248/266)\u001b[K\rremote: Counting objects:  94% (251/266)\u001b[K\rremote: Counting objects:  95% (253/266)\u001b[K\rremote: Counting objects:  96% (256/266)\u001b[K\rremote: Counting objects:  97% (259/266)\u001b[K\rremote: Counting objects:  98% (261/266)\u001b[K\rremote: Counting objects:  99% (264/266)\u001b[K\rremote: Counting objects: 100% (266/266)\u001b[K\rremote: Counting objects: 100% (266/266), done.\u001b[K\n",
            "remote: Compressing objects:   0% (1/258)\u001b[K\rremote: Compressing objects:   1% (3/258)\u001b[K\rremote: Compressing objects:   2% (6/258)\u001b[K\rremote: Compressing objects:   3% (8/258)\u001b[K\rremote: Compressing objects:   4% (11/258)\u001b[K\rremote: Compressing objects:   5% (13/258)\u001b[K\rremote: Compressing objects:   6% (16/258)\u001b[K\rremote: Compressing objects:   7% (19/258)\u001b[K\rremote: Compressing objects:   8% (21/258)\u001b[K\rremote: Compressing objects:   9% (24/258)\u001b[K\rremote: Compressing objects:  10% (26/258)\u001b[K\rremote: Compressing objects:  11% (29/258)\u001b[K\rremote: Compressing objects:  12% (31/258)\u001b[K\rremote: Compressing objects:  13% (34/258)\u001b[K\rremote: Compressing objects:  14% (37/258)\u001b[K\rremote: Compressing objects:  15% (39/258)\u001b[K\rremote: Compressing objects:  16% (42/258)\u001b[K\rremote: Compressing objects:  17% (44/258)\u001b[K\rremote: Compressing objects:  18% (47/258)\u001b[K\rremote: Compressing objects:  19% (50/258)\u001b[K\rremote: Compressing objects:  20% (52/258)\u001b[K\rremote: Compressing objects:  21% (55/258)\u001b[K\rremote: Compressing objects:  22% (57/258)\u001b[K\rremote: Compressing objects:  23% (60/258)\u001b[K\rremote: Compressing objects:  24% (62/258)\u001b[K\rremote: Compressing objects:  25% (65/258)\u001b[K\rremote: Compressing objects:  26% (68/258)\u001b[K\rremote: Compressing objects:  27% (70/258)\u001b[K\rremote: Compressing objects:  28% (73/258)\u001b[K\rremote: Compressing objects:  29% (75/258)\u001b[K\rremote: Compressing objects:  30% (78/258)\u001b[K\rremote: Compressing objects:  31% (80/258)\u001b[K\rremote: Compressing objects:  32% (83/258)\u001b[K\rremote: Compressing objects:  33% (86/258)\u001b[K\rremote: Compressing objects:  34% (88/258)\u001b[K\rremote: Compressing objects:  35% (91/258)\u001b[K\rremote: Compressing objects:  36% (93/258)\u001b[K\rremote: Compressing objects:  37% (96/258)\u001b[K\rremote: Compressing objects:  38% (99/258)\u001b[K\rremote: Compressing objects:  39% (101/258)\u001b[K\rremote: Compressing objects:  40% (104/258)\u001b[K\rremote: Compressing objects:  41% (106/258)\u001b[K\rremote: Compressing objects:  42% (109/258)\u001b[K\rremote: Compressing objects:  43% (111/258)\u001b[K\rremote: Compressing objects:  44% (114/258)\u001b[K\rremote: Compressing objects:  45% (117/258)\u001b[K\rremote: Compressing objects:  46% (119/258)\u001b[K\rremote: Compressing objects:  47% (122/258)\u001b[K\rremote: Compressing objects:  48% (124/258)\u001b[K\rremote: Compressing objects:  49% (127/258)\u001b[K\rremote: Compressing objects:  50% (129/258)\u001b[K\rremote: Compressing objects:  51% (132/258)\u001b[K\rremote: Compressing objects:  52% (135/258)\u001b[K\rremote: Compressing objects:  53% (137/258)\u001b[K\rremote: Compressing objects:  54% (140/258)\u001b[K\rremote: Compressing objects:  55% (142/258)\u001b[K\rremote: Compressing objects:  56% (145/258)\u001b[K\rremote: Compressing objects:  57% (148/258)\u001b[K\rremote: Compressing objects:  58% (150/258)\u001b[K\rremote: Compressing objects:  59% (153/258)\u001b[K\rremote: Compressing objects:  60% (155/258)\u001b[K\rremote: Compressing objects:  61% (158/258)\u001b[K\rremote: Compressing objects:  62% (160/258)\u001b[K\rremote: Compressing objects:  63% (163/258)\u001b[K\rremote: Compressing objects:  64% (166/258)\u001b[K\rremote: Compressing objects:  65% (168/258)\u001b[K\rremote: Compressing objects:  66% (171/258)\u001b[K\rremote: Compressing objects:  67% (173/258)\u001b[K\rremote: Compressing objects:  68% (176/258)\u001b[K\rremote: Compressing objects:  69% (179/258)\u001b[K\rremote: Compressing objects:  70% (181/258)\u001b[K\rremote: Compressing objects:  71% (184/258)\u001b[K\rremote: Compressing objects:  72% (186/258)\u001b[K\rremote: Compressing objects:  73% (189/258)\u001b[K\rremote: Compressing objects:  74% (191/258)\u001b[K\rremote: Compressing objects:  75% (194/258)\u001b[K\rremote: Compressing objects:  76% (197/258)\u001b[K\rremote: Compressing objects:  77% (199/258)\u001b[K\rremote: Compressing objects:  78% (202/258)\u001b[K\rremote: Compressing objects:  79% (204/258)\u001b[K\rremote: Compressing objects:  80% (207/258)\u001b[K\rremote: Compressing objects:  81% (209/258)\u001b[K\rremote: Compressing objects:  82% (212/258)\u001b[K\rremote: Compressing objects:  83% (215/258)\u001b[K\rremote: Compressing objects:  84% (217/258)\u001b[K\rremote: Compressing objects:  85% (220/258)\u001b[K\rremote: Compressing objects:  86% (222/258)\u001b[K\rremote: Compressing objects:  87% (225/258)\u001b[K\rremote: Compressing objects:  88% (228/258)\u001b[K\rremote: Compressing objects:  89% (230/258)\u001b[K\rremote: Compressing objects:  90% (233/258)\u001b[K\rremote: Compressing objects:  91% (235/258)\u001b[K\rremote: Compressing objects:  92% (238/258)\u001b[K\rremote: Compressing objects:  93% (240/258)\u001b[K\rremote: Compressing objects:  94% (243/258)\u001b[K\rremote: Compressing objects:  95% (246/258)\u001b[K\rremote: Compressing objects:  96% (248/258)\u001b[K\rremote: Compressing objects:  97% (251/258)\u001b[K\rremote: Compressing objects:  98% (253/258)\u001b[K\rremote: Compressing objects:  99% (256/258)\u001b[K\rremote: Compressing objects: 100% (258/258)\u001b[K\rremote: Compressing objects: 100% (258/258), done.\u001b[K\n",
            "Receiving objects:   0% (1/381)   \rReceiving objects:   1% (4/381)   \rReceiving objects:   2% (8/381)   \rReceiving objects:   3% (12/381)   \rReceiving objects:   4% (16/381)   \rReceiving objects:   5% (20/381)   \rReceiving objects:   6% (23/381)   \rReceiving objects:   7% (27/381)   \rReceiving objects:   8% (31/381)   \rReceiving objects:   9% (35/381)   \rReceiving objects:  10% (39/381)   \rReceiving objects:  11% (42/381)   \rReceiving objects:  12% (46/381)   \rReceiving objects:  13% (50/381)   \rReceiving objects:  14% (54/381)   \rReceiving objects:  15% (58/381)   \rReceiving objects:  16% (61/381)   \rReceiving objects:  17% (65/381)   \rReceiving objects:  18% (69/381)   \rReceiving objects:  19% (73/381)   \rReceiving objects:  20% (77/381)   \rReceiving objects:  21% (81/381)   \rReceiving objects:  22% (84/381)   \rReceiving objects:  23% (88/381)   \rReceiving objects:  24% (92/381)   \rReceiving objects:  25% (96/381)   \rReceiving objects:  26% (100/381)   \rReceiving objects:  27% (103/381)   \rReceiving objects:  28% (107/381)   \rReceiving objects:  29% (111/381)   \rReceiving objects:  30% (115/381)   \rReceiving objects:  31% (119/381)   \rReceiving objects:  32% (122/381)   \rReceiving objects:  33% (126/381)   \rReceiving objects:  34% (130/381)   \rReceiving objects:  35% (134/381)   \rReceiving objects:  36% (138/381)   \rReceiving objects:  37% (141/381)   \rReceiving objects:  38% (145/381)   \rReceiving objects:  39% (149/381)   \rReceiving objects:  40% (153/381)   \rReceiving objects:  41% (157/381)   \rReceiving objects:  42% (161/381)   \rReceiving objects:  43% (164/381)   \rReceiving objects:  44% (168/381)   \rReceiving objects:  45% (172/381)   \rReceiving objects:  46% (176/381)   \rReceiving objects:  47% (180/381)   \rReceiving objects:  48% (183/381)   \rReceiving objects:  49% (187/381)   \rReceiving objects:  50% (191/381)   \rReceiving objects:  51% (195/381)   \rReceiving objects:  52% (199/381)   \rReceiving objects:  53% (202/381)   \rReceiving objects:  54% (206/381)   \rReceiving objects:  55% (210/381)   \rReceiving objects:  56% (214/381)   \rReceiving objects:  57% (218/381)   \rReceiving objects:  58% (221/381)   \rReceiving objects:  59% (225/381)   \rReceiving objects:  60% (229/381)   \rReceiving objects:  61% (233/381)   \rReceiving objects:  62% (237/381)   \rReceiving objects:  63% (241/381)   \rReceiving objects:  64% (244/381)   \rReceiving objects:  65% (248/381)   \rReceiving objects:  66% (252/381)   \rReceiving objects:  67% (256/381)   \rReceiving objects:  68% (260/381)   \rReceiving objects:  69% (263/381)   \rReceiving objects:  70% (267/381)   \rReceiving objects:  71% (271/381)   \rReceiving objects:  72% (275/381)   \rReceiving objects:  73% (279/381)   \rReceiving objects:  74% (282/381)   \rReceiving objects:  75% (286/381)   \rReceiving objects:  76% (290/381)   \rReceiving objects:  77% (294/381), 13.25 MiB | 26.48 MiB/s   \rReceiving objects:  78% (298/381), 13.25 MiB | 26.48 MiB/s   \rReceiving objects:  79% (301/381), 13.25 MiB | 26.48 MiB/s   \rReceiving objects:  80% (305/381), 13.25 MiB | 26.48 MiB/s   \rReceiving objects:  81% (309/381), 13.25 MiB | 26.48 MiB/s   \rReceiving objects:  82% (313/381), 13.25 MiB | 26.48 MiB/s   \rReceiving objects:  83% (317/381), 13.25 MiB | 26.48 MiB/s   \rReceiving objects:  84% (321/381), 13.25 MiB | 26.48 MiB/s   \rReceiving objects:  85% (324/381), 13.25 MiB | 26.48 MiB/s   \rReceiving objects:  86% (328/381), 13.25 MiB | 26.48 MiB/s   \rReceiving objects:  87% (332/381), 13.25 MiB | 26.48 MiB/s   \rReceiving objects:  88% (336/381), 13.25 MiB | 26.48 MiB/s   \rReceiving objects:  89% (340/381), 13.25 MiB | 26.48 MiB/s   \rReceiving objects:  90% (343/381), 13.25 MiB | 26.48 MiB/s   \rReceiving objects:  91% (347/381), 13.25 MiB | 26.48 MiB/s   \rReceiving objects:  92% (351/381), 13.25 MiB | 26.48 MiB/s   \rReceiving objects:  93% (355/381), 13.25 MiB | 26.48 MiB/s   \rReceiving objects:  94% (359/381), 13.25 MiB | 26.48 MiB/s   \rReceiving objects:  95% (362/381), 13.25 MiB | 26.48 MiB/s   \rremote: Total 381 (delta 18), reused 254 (delta 7), pack-reused 115\u001b[K\n",
            "Receiving objects:  96% (366/381), 13.25 MiB | 26.48 MiB/s   \rReceiving objects:  97% (370/381), 13.25 MiB | 26.48 MiB/s   \rReceiving objects:  98% (374/381), 13.25 MiB | 26.48 MiB/s   \rReceiving objects:  99% (378/381), 13.25 MiB | 26.48 MiB/s   \rReceiving objects: 100% (381/381), 13.25 MiB | 26.48 MiB/s   \rReceiving objects: 100% (381/381), 22.57 MiB | 31.83 MiB/s, done.\n",
            "Resolving deltas:   0% (0/79)   \rResolving deltas:   1% (1/79)   \rResolving deltas:   2% (2/79)   \rResolving deltas:   6% (5/79)   \rResolving deltas:   7% (6/79)   \rResolving deltas:  13% (11/79)   \rResolving deltas:  31% (25/79)   \rResolving deltas:  32% (26/79)   \rResolving deltas:  34% (27/79)   \rResolving deltas:  35% (28/79)   \rResolving deltas:  39% (31/79)   \rResolving deltas:  49% (39/79)   \rResolving deltas:  55% (44/79)   \rResolving deltas:  58% (46/79)   \rResolving deltas:  68% (54/79)   \rResolving deltas:  84% (67/79)   \rResolving deltas:  89% (71/79)   \rResolving deltas: 100% (79/79)   \rResolving deltas: 100% (79/79), done.\n"
          ],
          "name": "stdout"
        }
      ]
    },
    {
      "cell_type": "code",
      "metadata": {
        "id": "CRAqc49GLhLa",
        "colab_type": "code",
        "colab": {
          "base_uri": "https://localhost:8080/",
          "height": 107
        },
        "outputId": "e3fb82bc-ea67-4fe6-8682-586a08796a95"
      },
      "source": [
        "pip install torchvision"
      ],
      "execution_count": 2,
      "outputs": [
        {
          "output_type": "stream",
          "text": [
            "Requirement already satisfied: torchvision in /usr/local/lib/python3.6/dist-packages (0.6.1+cu101)\n",
            "Requirement already satisfied: numpy in /usr/local/lib/python3.6/dist-packages (from torchvision) (1.18.5)\n",
            "Requirement already satisfied: torch==1.5.1 in /usr/local/lib/python3.6/dist-packages (from torchvision) (1.5.1+cu101)\n",
            "Requirement already satisfied: pillow>=4.1.1 in /usr/local/lib/python3.6/dist-packages (from torchvision) (7.0.0)\n",
            "Requirement already satisfied: future in /usr/local/lib/python3.6/dist-packages (from torch==1.5.1->torchvision) (0.16.0)\n"
          ],
          "name": "stdout"
        }
      ]
    },
    {
      "cell_type": "code",
      "metadata": {
        "id": "v7P8jGDiLv6f",
        "colab_type": "code",
        "colab": {
          "base_uri": "https://localhost:8080/",
          "height": 307
        },
        "outputId": "b830365c-7119-47ed-d6b5-a93fe7b149c9"
      },
      "source": [
        "pip install requests opencv-python==3.4.5.20"
      ],
      "execution_count": 3,
      "outputs": [
        {
          "output_type": "stream",
          "text": [
            "Requirement already satisfied: requests in /usr/local/lib/python3.6/dist-packages (2.23.0)\n",
            "Collecting opencv-python==3.4.5.20\n",
            "\u001b[?25l  Downloading https://files.pythonhosted.org/packages/85/e1/d3eed618272f4b746339af1a84b2511e79c1708d88a9195cf25d743fa614/opencv_python-3.4.5.20-cp36-cp36m-manylinux1_x86_64.whl (25.4MB)\n",
            "\u001b[K     |████████████████████████████████| 25.4MB 119kB/s \n",
            "\u001b[?25hRequirement already satisfied: chardet<4,>=3.0.2 in /usr/local/lib/python3.6/dist-packages (from requests) (3.0.4)\n",
            "Requirement already satisfied: idna<3,>=2.5 in /usr/local/lib/python3.6/dist-packages (from requests) (2.10)\n",
            "Requirement already satisfied: certifi>=2017.4.17 in /usr/local/lib/python3.6/dist-packages (from requests) (2020.6.20)\n",
            "Requirement already satisfied: urllib3!=1.25.0,!=1.25.1,<1.26,>=1.21.1 in /usr/local/lib/python3.6/dist-packages (from requests) (1.24.3)\n",
            "Requirement already satisfied: numpy>=1.11.3 in /usr/local/lib/python3.6/dist-packages (from opencv-python==3.4.5.20) (1.18.5)\n",
            "\u001b[31mERROR: albumentations 0.1.12 has requirement imgaug<0.2.7,>=0.2.5, but you'll have imgaug 0.2.9 which is incompatible.\u001b[0m\n",
            "Installing collected packages: opencv-python\n",
            "  Found existing installation: opencv-python 4.1.2.30\n",
            "    Uninstalling opencv-python-4.1.2.30:\n",
            "      Successfully uninstalled opencv-python-4.1.2.30\n",
            "Successfully installed opencv-python-3.4.5.20\n"
          ],
          "name": "stdout"
        }
      ]
    },
    {
      "cell_type": "code",
      "metadata": {
        "id": "clG9x6U_MHpf",
        "colab_type": "code",
        "colab": {
          "base_uri": "https://localhost:8080/",
          "height": 89
        },
        "outputId": "5b50c633-382b-46dd-8174-474f76f8a46f"
      },
      "source": [
        "%cd posenet-pytorch\n",
        "!ls"
      ],
      "execution_count": 4,
      "outputs": [
        {
          "output_type": "stream",
          "text": [
            "/content/posenet-pytorch\n",
            "benchmark.py\t    LICENSE.txt  README.md  triangle3\n",
            "get_test_images.py  NOTICE.txt\t triangle1  webcam_demo.py\n",
            "image_demo.py\t    posenet\t triangle2\n"
          ],
          "name": "stdout"
        }
      ]
    },
    {
      "cell_type": "code",
      "metadata": {
        "id": "lynjNDcJLzuj",
        "colab_type": "code",
        "colab": {
          "base_uri": "https://localhost:8080/",
          "height": 1000
        },
        "outputId": "5da5d2e2-e193-4b95-cb7e-0d1b6f222b5d"
      },
      "source": [
        "!python image_demo.py --model 101 --image_dir /content/posenet-pytorch/triangle1 --output_dir /content/posenet-pytorch/output"
      ],
      "execution_count": 5,
      "outputs": [
        {
          "output_type": "stream",
          "text": [
            "Cannot find models file ./_models/mobilenet_v1_101.pth, converting from tfjs...\n",
            "Weights for checkpoint mobilenet_v1_101 are not downloaded. Downloading to /tmp/_posenet_weights ...\n",
            "Downloading MobilenetV1_Conv2d_0_biases\n",
            "Downloading MobilenetV1_Conv2d_0_weights\n",
            "Downloading MobilenetV1_Conv2d_10_depthwise_biases\n",
            "Downloading MobilenetV1_Conv2d_10_depthwise_depthwise_weights\n",
            "Downloading MobilenetV1_Conv2d_10_pointwise_biases\n",
            "Downloading MobilenetV1_Conv2d_10_pointwise_weights\n",
            "Downloading MobilenetV1_Conv2d_11_depthwise_biases\n",
            "Downloading MobilenetV1_Conv2d_11_depthwise_depthwise_weights\n",
            "Downloading MobilenetV1_Conv2d_11_pointwise_biases\n",
            "Downloading MobilenetV1_Conv2d_11_pointwise_weights\n",
            "Downloading MobilenetV1_Conv2d_12_depthwise_biases\n",
            "Downloading MobilenetV1_Conv2d_12_depthwise_depthwise_weights\n",
            "Downloading MobilenetV1_Conv2d_12_pointwise_biases\n",
            "Downloading MobilenetV1_Conv2d_12_pointwise_weights\n",
            "Downloading MobilenetV1_Conv2d_13_depthwise_biases\n",
            "Downloading MobilenetV1_Conv2d_13_depthwise_depthwise_weights\n",
            "Downloading MobilenetV1_Conv2d_13_pointwise_biases\n",
            "Downloading MobilenetV1_Conv2d_13_pointwise_weights\n",
            "Downloading MobilenetV1_Conv2d_1_depthwise_biases\n",
            "Downloading MobilenetV1_Conv2d_1_depthwise_depthwise_weights\n",
            "Downloading MobilenetV1_Conv2d_1_pointwise_biases\n",
            "Downloading MobilenetV1_Conv2d_1_pointwise_weights\n",
            "Downloading MobilenetV1_Conv2d_2_depthwise_biases\n",
            "Downloading MobilenetV1_Conv2d_2_depthwise_depthwise_weights\n",
            "Downloading MobilenetV1_Conv2d_2_pointwise_biases\n",
            "Downloading MobilenetV1_Conv2d_2_pointwise_weights\n",
            "Downloading MobilenetV1_Conv2d_3_depthwise_biases\n",
            "Downloading MobilenetV1_Conv2d_3_depthwise_depthwise_weights\n",
            "Downloading MobilenetV1_Conv2d_3_pointwise_biases\n",
            "Downloading MobilenetV1_Conv2d_3_pointwise_weights\n",
            "Downloading MobilenetV1_Conv2d_4_depthwise_biases\n",
            "Downloading MobilenetV1_Conv2d_4_depthwise_depthwise_weights\n",
            "Downloading MobilenetV1_Conv2d_4_pointwise_biases\n",
            "Downloading MobilenetV1_Conv2d_4_pointwise_weights\n",
            "Downloading MobilenetV1_Conv2d_5_depthwise_biases\n",
            "Downloading MobilenetV1_Conv2d_5_depthwise_depthwise_weights\n",
            "Downloading MobilenetV1_Conv2d_5_pointwise_biases\n",
            "Downloading MobilenetV1_Conv2d_5_pointwise_weights\n",
            "Downloading MobilenetV1_Conv2d_6_depthwise_biases\n",
            "Downloading MobilenetV1_Conv2d_6_depthwise_depthwise_weights\n",
            "Downloading MobilenetV1_Conv2d_6_pointwise_biases\n",
            "Downloading MobilenetV1_Conv2d_6_pointwise_weights\n",
            "Downloading MobilenetV1_Conv2d_7_depthwise_biases\n",
            "Downloading MobilenetV1_Conv2d_7_depthwise_depthwise_weights\n",
            "Downloading MobilenetV1_Conv2d_7_pointwise_biases\n",
            "Downloading MobilenetV1_Conv2d_7_pointwise_weights\n",
            "Downloading MobilenetV1_Conv2d_8_depthwise_biases\n",
            "Downloading MobilenetV1_Conv2d_8_depthwise_depthwise_weights\n",
            "Downloading MobilenetV1_Conv2d_8_pointwise_biases\n",
            "Downloading MobilenetV1_Conv2d_8_pointwise_weights\n",
            "Downloading MobilenetV1_Conv2d_9_depthwise_biases\n",
            "Downloading MobilenetV1_Conv2d_9_depthwise_depthwise_weights\n",
            "Downloading MobilenetV1_Conv2d_9_pointwise_biases\n",
            "Downloading MobilenetV1_Conv2d_9_pointwise_weights\n",
            "Downloading MobilenetV1_displacement_bwd_1_biases\n",
            "Downloading MobilenetV1_displacement_bwd_1_weights\n",
            "Downloading MobilenetV1_displacement_bwd_2_biases\n",
            "Downloading MobilenetV1_displacement_bwd_2_weights\n",
            "Downloading MobilenetV1_displacement_fwd_1_biases\n",
            "Downloading MobilenetV1_displacement_fwd_1_weights\n",
            "Downloading MobilenetV1_displacement_fwd_2_biases\n",
            "Downloading MobilenetV1_displacement_fwd_2_weights\n",
            "Downloading MobilenetV1_heatmap_1_biases\n",
            "Downloading MobilenetV1_heatmap_1_weights\n",
            "Downloading MobilenetV1_heatmap_2_biases\n",
            "Downloading MobilenetV1_heatmap_2_weights\n",
            "Downloading MobilenetV1_offset_1_biases\n",
            "Downloading MobilenetV1_offset_1_weights\n",
            "Downloading MobilenetV1_offset_2_biases\n",
            "Downloading MobilenetV1_offset_2_weights\n",
            "Downloading MobilenetV1_partheat_1_biases\n",
            "Downloading MobilenetV1_partheat_1_weights\n",
            "Downloading MobilenetV1_partheat_2_biases\n",
            "Downloading MobilenetV1_partheat_2_weights\n",
            "Downloading MobilenetV1_partoff_1_biases\n",
            "Downloading MobilenetV1_partoff_1_weights\n",
            "Downloading MobilenetV1_partoff_2_biases\n",
            "Downloading MobilenetV1_partoff_2_weights\n",
            "Downloading MobilenetV1_segment_1_biases\n",
            "Downloading MobilenetV1_segment_1_weights\n",
            "Downloading MobilenetV1_segment_2_biases\n",
            "Downloading MobilenetV1_segment_2_weights\n",
            "\n",
            "Results for image: /content/posenet-pytorch/triangle1/39163292-sporty-young-man-working-out-yoga-pilates-fitness-training-standing-in-utthita-tadasana-five-pointed (1).jpg\n",
            "Pose #0, score = 0.386534\n",
            "[]\n",
            "\n",
            "Results for image: /content/posenet-pytorch/triangle1/images (2).png\n",
            "Pose #0, score = 0.331409\n",
            "[]\n",
            "\n",
            "Results for image: /content/posenet-pytorch/triangle1/images (3).png\n",
            "\n",
            "Results for image: /content/posenet-pytorch/triangle1/Star-Pose.jpg\n",
            "Pose #0, score = 0.701650\n",
            "[array([ 80.18552299, 136.15794256]), array([ 78.29987388, 137.46744192]), array([ 76.88395213, 132.89292685]), array([ 82.00933023, 142.21741171]), array([ 78.1956121 , 120.32817062]), array([105.40650284, 141.23792417]), array([ 95.94069838, 103.50705348]), array([111.94398489, 163.25081789]), array([93.7802516, 80.2533799]), array([123.00405825, 196.76288849]), array([79.57141325, 38.54838573]), array([167.09537795, 127.73061409]), array([161.12509831,  99.7958876 ]), array([214.34268206, 146.65790248]), array([197.8588069 ,  68.68931199]), array([253.93044602, 171.84092198]), array([220.66570749,  38.49318679])]\n",
            "\n",
            "Results for image: /content/posenet-pytorch/triangle1/images (1).png\n",
            "\n",
            "Results for image: /content/posenet-pytorch/triangle1/39163292-sporty-young-man-working-out-yoga-pilates-fitness-training-standing-in-utthita-tadasana-five-pointed.jpg\n",
            "Pose #0, score = 0.386534\n",
            "[]\n",
            "\n",
            "Results for image: /content/posenet-pytorch/triangle1/blog-fitnesstrends-051413-e.jpg\n",
            "Pose #0, score = 0.804571\n",
            "[array([ 65.88689907, 168.0265805 ]), array([ 62.44230556, 169.95362851]), array([ 62.65853328, 163.34135565]), array([ 67.91291085, 173.664246  ]), array([ 69.44994771, 160.27144924]), array([ 80.98921365, 179.5977354 ]), array([ 79.93463132, 154.63473662]), array([ 74.28623526, 194.23194408]), array([ 68.94694481, 133.67878504]), array([ 51.81843859, 207.61557814]), array([ 44.32269927, 121.29546614]), array([129.59774604, 177.77091701]), array([129.29698724, 158.27426775]), array([167.7647913 , 195.59390821]), array([169.95764414, 145.98508439]), array([198.17279112, 212.49709164]), array([199.78038203, 126.80313062])]\n",
            "\n",
            "Results for image: /content/posenet-pytorch/triangle1/5-pointed-star.jpg\n",
            "Pose #0, score = 0.519397\n",
            "[array([ 88.63788301, 320.03621237]), array([ 80.61741326, 329.55911479]), array([ 80.14496287, 309.26352943]), array([ 94.36417422, 343.63023112]), array([ 95.36264032, 294.44929245]), array([147.57581562, 354.5246304 ]), array([148.58548177, 285.86231868]), array([146.76402587, 454.81953018]), array([138.8165429 , 186.05252032]), array([149.8573269, 546.1666475]), array([142.73508231, 119.01627039]), array([310.52624476, 358.75883439]), array([311.62140432, 290.32020367]), array([422.35175863, 418.86317308]), array([415.94680952, 212.36756799]), array([512.20615073, 505.30580708]), array([534.47853137, 158.50844992])]\n",
            "\n",
            "Results for image: /content/posenet-pytorch/triangle1/images.png\n",
            "\n",
            "Results for image: /content/posenet-pytorch/triangle1/bc7b910a3d0cdc45a981052691a2ae06.jpg\n",
            "Pose #0, score = 0.486093\n",
            "[array([ 86.24508305, 173.73670628]), array([ 79.68425133, 179.3764394 ]), array([ 79.05919965, 167.69177746]), array([ 82.33187524, 186.92042747]), array([ 82.55357116, 161.91791567]), array([115.72255563, 196.98538544]), array([112.89556521, 148.02337681]), array([115.00995703, 255.5426179 ]), array([114.30919282,  99.41337133]), array([119.41288057, 309.30297586]), array([118.56129686,  46.350317  ]), array([200.33525589, 190.07259964]), array([200.90220783, 155.53629844]), array([276.3460696 , 202.72166208]), array([275.34849694, 125.41242461]), array([337.38872127, 256.61815735]), array([343.90907367, 107.44101207])]\n",
            "Pose #1, score = 0.254008\n",
            "[]\n",
            "[[], [], [array([ 80.18552299, 136.15794256]), array([ 78.29987388, 137.46744192]), array([ 76.88395213, 132.89292685]), array([ 82.00933023, 142.21741171]), array([ 78.1956121 , 120.32817062]), array([105.40650284, 141.23792417]), array([ 95.94069838, 103.50705348]), array([111.94398489, 163.25081789]), array([93.7802516, 80.2533799]), array([123.00405825, 196.76288849]), array([79.57141325, 38.54838573]), array([167.09537795, 127.73061409]), array([161.12509831,  99.7958876 ]), array([214.34268206, 146.65790248]), array([197.8588069 ,  68.68931199]), array([253.93044602, 171.84092198]), array([220.66570749,  38.49318679])], [], [array([ 65.88689907, 168.0265805 ]), array([ 62.44230556, 169.95362851]), array([ 62.65853328, 163.34135565]), array([ 67.91291085, 173.664246  ]), array([ 69.44994771, 160.27144924]), array([ 80.98921365, 179.5977354 ]), array([ 79.93463132, 154.63473662]), array([ 74.28623526, 194.23194408]), array([ 68.94694481, 133.67878504]), array([ 51.81843859, 207.61557814]), array([ 44.32269927, 121.29546614]), array([129.59774604, 177.77091701]), array([129.29698724, 158.27426775]), array([167.7647913 , 195.59390821]), array([169.95764414, 145.98508439]), array([198.17279112, 212.49709164]), array([199.78038203, 126.80313062])], [array([ 88.63788301, 320.03621237]), array([ 80.61741326, 329.55911479]), array([ 80.14496287, 309.26352943]), array([ 94.36417422, 343.63023112]), array([ 95.36264032, 294.44929245]), array([147.57581562, 354.5246304 ]), array([148.58548177, 285.86231868]), array([146.76402587, 454.81953018]), array([138.8165429 , 186.05252032]), array([149.8573269, 546.1666475]), array([142.73508231, 119.01627039]), array([310.52624476, 358.75883439]), array([311.62140432, 290.32020367]), array([422.35175863, 418.86317308]), array([415.94680952, 212.36756799]), array([512.20615073, 505.30580708]), array([534.47853137, 158.50844992])], [array([ 86.24508305, 173.73670628]), array([ 79.68425133, 179.3764394 ]), array([ 79.05919965, 167.69177746]), array([ 82.33187524, 186.92042747]), array([ 82.55357116, 161.91791567]), array([115.72255563, 196.98538544]), array([112.89556521, 148.02337681]), array([115.00995703, 255.5426179 ]), array([114.30919282,  99.41337133]), array([119.41288057, 309.30297586]), array([118.56129686,  46.350317  ]), array([200.33525589, 190.07259964]), array([200.90220783, 155.53629844]), array([276.3460696 , 202.72166208]), array([275.34849694, 125.41242461]), array([337.38872127, 256.61815735]), array([343.90907367, 107.44101207])], []]\n",
            "Average FPS: 21.898471342700855\n"
          ],
          "name": "stdout"
        }
      ]
    },
    {
      "cell_type": "code",
      "metadata": {
        "id": "V3dBTNbIUbMW",
        "colab_type": "code",
        "colab": {}
      },
      "source": [
        ""
      ],
      "execution_count": 5,
      "outputs": []
    }
  ]
}